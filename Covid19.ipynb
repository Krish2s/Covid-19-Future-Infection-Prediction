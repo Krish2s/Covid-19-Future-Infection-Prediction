{
 "cells": [
  {
   "cell_type": "code",
   "execution_count": 23,
   "metadata": {
    "collapsed": false
   },
   "outputs": [],
   "source": [
    "import pandas as pd\n",
    "import matplotlib.pyplot as plt\n",
    "import numpy as np\n",
    "import sklearn\n"
   ]
  },
  {
   "cell_type": "code",
   "execution_count": 5,
   "metadata": {
    "collapsed": false
   },
   "outputs": [
    {
     "name": "stdout",
     "output_type": "stream",
     "text": [
      "   Sno       Date     Time State/UnionTerritory ConfirmedIndianNational  \\\n",
      "0  1.0 2020-01-30  6:00 PM               Kerala                       1   \n",
      "1  2.0 2020-01-31  6:00 PM               Kerala                       1   \n",
      "2  3.0 2020-02-01  6:00 PM               Kerala                       2   \n",
      "3  4.0 2020-02-02  6:00 PM               Kerala                       3   \n",
      "4  5.0 2020-02-03  6:00 PM               Kerala                       3   \n",
      "\n",
      "  ConfirmedForeignNational  Cured  Deaths  Confirmed  \n",
      "0                        0    0.0     0.0        1.0  \n",
      "1                        0    0.0     0.0        1.0  \n",
      "2                        0    0.0     0.0        2.0  \n",
      "3                        0    0.0     0.0        3.0  \n",
      "4                        0    0.0     0.0        3.0  \n",
      "     Sno Date Time State/UnionTerritory ConfirmedIndianNational  \\\n",
      "642  NaN  NaT  NaN                  NaN                     NaN   \n",
      "643  NaN  NaT  NaN                  NaN                     NaN   \n",
      "644  NaN  NaT  NaN                  NaN                     NaN   \n",
      "645  NaN  NaT  NaN                  NaN                     NaN   \n",
      "646  NaN  NaT  NaN                  NaN                     NaN   \n",
      "\n",
      "    ConfirmedForeignNational  Cured  Deaths  Confirmed  \n",
      "642                      NaN    NaN     NaN        NaN  \n",
      "643                      NaN    NaN     NaN        NaN  \n",
      "644                      NaN    NaN     NaN        NaN  \n",
      "645                      NaN    NaN     NaN        NaN  \n",
      "646                      NaN    NaN     NaN        NaN  \n"
     ]
    }
   ],
   "source": [
    "India_covid19 = pd.read_csv('/home/krish/Downloads/covid_19_india.csv', parse_dates=['Date'], dayfirst=True)\n",
    "print(India_covid19.head())\n",
    "print(India_covid19.tail())"
   ]
  },
  {
   "cell_type": "code",
   "execution_count": 6,
   "metadata": {
    "collapsed": false
   },
   "outputs": [
    {
     "data": {
      "text/plain": [
       "Index(['Sno', 'Date', 'Time', 'State/UnionTerritory',\n",
       "       'ConfirmedIndianNational', 'ConfirmedForeignNational', 'Cured',\n",
       "       'Deaths', 'Confirmed'],\n",
       "      dtype='object')"
      ]
     },
     "execution_count": 6,
     "metadata": {},
     "output_type": "execute_result"
    }
   ],
   "source": [
    "\n",
    "\n",
    "India_covid19.columns\n",
    "\n"
   ]
  },
  {
   "cell_type": "code",
   "execution_count": 7,
   "metadata": {
    "collapsed": false
   },
   "outputs": [
    {
     "name": "stdout",
     "output_type": "stream",
     "text": [
      "        Date     Time State/UnionTerritory ConfirmedIndianNational  \\\n",
      "0 2020-01-30  6:00 PM               Kerala                       1   \n",
      "1 2020-01-31  6:00 PM               Kerala                       1   \n",
      "2 2020-02-01  6:00 PM               Kerala                       2   \n",
      "3 2020-02-02  6:00 PM               Kerala                       3   \n",
      "4 2020-02-03  6:00 PM               Kerala                       3   \n",
      "\n",
      "  ConfirmedForeignNational  Cured  Deaths  Confirmed  \n",
      "0                        0    0.0     0.0        1.0  \n",
      "1                        0    0.0     0.0        1.0  \n",
      "2                        0    0.0     0.0        2.0  \n",
      "3                        0    0.0     0.0        3.0  \n",
      "4                        0    0.0     0.0        3.0  \n",
      "    Date Time State/UnionTerritory ConfirmedIndianNational  \\\n",
      "642  NaT  NaN                  NaN                     NaN   \n",
      "643  NaT  NaN                  NaN                     NaN   \n",
      "644  NaT  NaN                  NaN                     NaN   \n",
      "645  NaT  NaN                  NaN                     NaN   \n",
      "646  NaT  NaN                  NaN                     NaN   \n",
      "\n",
      "    ConfirmedForeignNational  Cured  Deaths  Confirmed  \n",
      "642                      NaN    NaN     NaN        NaN  \n",
      "643                      NaN    NaN     NaN        NaN  \n",
      "644                      NaN    NaN     NaN        NaN  \n",
      "645                      NaN    NaN     NaN        NaN  \n",
      "646                      NaN    NaN     NaN        NaN  \n"
     ]
    }
   ],
   "source": [
    "India_covid19.drop([\"Sno\"], axis = 1, inplace = True)\n",
    "India_covid19.rename(columns = {\"State/UnionTerritiry\": \"States\"}, inplace=True)\n",
    "print(India_covid19.head())\n",
    "print(India_covid19.tail())"
   ]
  },
  {
   "cell_type": "code",
   "execution_count": 8,
   "metadata": {
    "collapsed": false
   },
   "outputs": [
    {
     "name": "stdout",
     "output_type": "stream",
     "text": [
      "        Date  Confirmed\n",
      "0 2020-01-30        1.0\n",
      "1 2020-01-31        1.0\n",
      "2 2020-02-01        2.0\n",
      "3 2020-02-02        3.0\n",
      "4 2020-02-03        3.0\n",
      "         Date  Confirmed\n",
      "60 2020-03-30     1251.0\n",
      "61 2020-03-31     1397.0\n",
      "62 2020-04-01     1834.0\n",
      "63 2020-04-02     2069.0\n",
      "64 2020-04-03     2470.0\n",
      "(65, 2)\n"
     ]
    }
   ],
   "source": [
    "India_per_day = India_covid19.groupby([\"Date\"])[\"Confirmed\"].sum().reset_index().sort_values(\"Date\", ascending = True)\n",
    "print(India_per_day.head())\n",
    "print(India_per_day.tail())\n",
    "print(India_per_day.shape)"
   ]
  },
  {
   "cell_type": "code",
   "execution_count": 9,
   "metadata": {
    "collapsed": false
   },
   "outputs": [
    {
     "data": {
      "text/plain": [
       "65"
      ]
     },
     "execution_count": 9,
     "metadata": {},
     "output_type": "execute_result"
    }
   ],
   "source": [
    "\n",
    "\n",
    "India_per_day.shape[0]\n",
    "\n"
   ]
  },
  {
   "cell_type": "code",
   "execution_count": 10,
   "metadata": {
    "collapsed": false
   },
   "outputs": [
    {
     "name": "stdout",
     "output_type": "stream",
     "text": [
      "   day_count  Confirmed\n",
      "0          0        1.0\n",
      "1          1        1.0\n",
      "2          2        2.0\n",
      "3          3        3.0\n",
      "4          4        3.0\n",
      "    day_count  Confirmed\n",
      "60         60     1251.0\n",
      "61         61     1397.0\n",
      "62         62     1834.0\n",
      "63         63     2069.0\n",
      "64         64     2470.0\n"
     ]
    }
   ],
   "source": [
    "India_per_day['Date']=pd.to_datetime(India_per_day.Date,dayfirst=True)\n",
    "India_daily= India_per_day.groupby(['Date'])['Confirmed'].sum().reset_index().sort_values('Date',ascending=True)\n",
    "India_daily[\"day_count\"] = np.arange(0, India_daily.shape[0])\n",
    "\n",
    "daily_infection = India_daily.loc[:, [\"day_count\", \"Confirmed\"]]\n",
    "print(daily_infection.head())\n",
    "print(daily_infection.tail())"
   ]
  },
  {
   "cell_type": "code",
   "execution_count": 11,
   "metadata": {
    "collapsed": false
   },
   "outputs": [
    {
     "data": {
      "image/png": "[encoded data removed]",
      "text/plain": [
       "<matplotlib.figure.Figure at 0xa981576c>"
      ]
     },
     "metadata": {},
     "output_type": "display_data"
    }
   ],
   "source": [
    "plt.scatter(daily_infection[\"day_count\"], daily_infection[\"Confirmed\"], alpha=0.3, c=\"red\")\n",
    "plt.plot(daily_infection[\"day_count\"], daily_infection[\"Confirmed\"])\n",
    "plt.title(\"Daily Infection Plot\")\n",
    "plt.xlabel(\"Day\")\n",
    "plt.ylabel(\"Infections\")\n",
    "plt.show()"
   ]
  },
  {
   "cell_type": "code",
   "execution_count": 12,
   "metadata": {
    "collapsed": false
   },
   "outputs": [
    {
     "data": {
      "text/html": [
       "<div>\n",
       "<table border=\"1\" class=\"dataframe\">\n",
       "  <thead>\n",
       "    <tr style=\"text-align: right;\">\n",
       "      <th></th>\n",
       "      <th>day_count</th>\n",
       "      <th>Confirmed</th>\n",
       "      <th>logConfirmed</th>\n",
       "    </tr>\n",
       "  </thead>\n",
       "  <tbody>\n",
       "    <tr>\n",
       "      <th>0</th>\n",
       "      <td>0</td>\n",
       "      <td>1.0</td>\n",
       "      <td>0.000000</td>\n",
       "    </tr>\n",
       "    <tr>\n",
       "      <th>1</th>\n",
       "      <td>1</td>\n",
       "      <td>1.0</td>\n",
       "      <td>0.000000</td>\n",
       "    </tr>\n",
       "    <tr>\n",
       "      <th>2</th>\n",
       "      <td>2</td>\n",
       "      <td>2.0</td>\n",
       "      <td>0.693147</td>\n",
       "    </tr>\n",
       "    <tr>\n",
       "      <th>3</th>\n",
       "      <td>3</td>\n",
       "      <td>3.0</td>\n",
       "      <td>1.098612</td>\n",
       "    </tr>\n",
       "  </tbody>\n",
       "</table>\n",
       "</div>"
      ],
      "text/plain": [
       "   day_count  Confirmed  logConfirmed\n",
       "0          0        1.0      0.000000\n",
       "1          1        1.0      0.000000\n",
       "2          2        2.0      0.693147\n",
       "3          3        3.0      1.098612"
      ]
     },
     "execution_count": 12,
     "metadata": {},
     "output_type": "execute_result"
    }
   ],
   "source": [
    "# Taking log of dependent variable\n",
    "daily_infection[\"logConfirmed\"] = np.log(daily_infection.Confirmed)\n",
    "daily_infection.head(4)\n"
   ]
  },
  {
   "cell_type": "code",
   "execution_count": 13,
   "metadata": {
    "collapsed": false
   },
   "outputs": [
    {
     "data": {
      "image/png": "[encoded data removed]",
      "text/plain": [
       "<matplotlib.figure.Figure at 0xa7eb3d8c>"
      ]
     },
     "metadata": {},
     "output_type": "display_data"
    }
   ],
   "source": [
    "plt.scatter(daily_infection[\"day_count\"], daily_infection[\"logConfirmed\"], alpha=0.3, c=\"red\")\n",
    "plt.plot(daily_infection[\"day_count\"], daily_infection[\"logConfirmed\"])\n",
    "plt.title(\"Daily Infection Plot\")\n",
    "plt.xlabel(\"Day\")\n",
    "plt.ylabel(\"log_Infections\")\n",
    "plt.show()"
   ]
  },
  {
   "cell_type": "code",
   "execution_count": 14,
   "metadata": {
    "collapsed": true
   },
   "outputs": [],
   "source": [
    "\n",
    "\n",
    "import statsmodels.api as sm\n",
    "\n",
    "X = daily_infection.day_count\n",
    "X = sm.add_constant(X)\n",
    "y = daily_infection.logConfirmed\n",
    "\n"
   ]
  },
  {
   "cell_type": "code",
   "execution_count": 15,
   "metadata": {
    "collapsed": false
   },
   "outputs": [
    {
     "name": "stdout",
     "output_type": "stream",
     "text": [
      "                            OLS Regression Results                            \n",
      "==============================================================================\n",
      "Dep. Variable:           logConfirmed   R-squared:                       0.885\n",
      "Model:                            OLS   Adj. R-squared:                  0.883\n",
      "Method:                 Least Squares   F-statistic:                     483.2\n",
      "Date:                Fri, 03 Apr 2020   Prob (F-statistic):           3.01e-31\n",
      "Time:                        23:14:04   Log-Likelihood:                -78.293\n",
      "No. Observations:                  65   AIC:                             160.6\n",
      "Df Residuals:                      63   BIC:                             164.9\n",
      "Df Model:                           1                                         \n",
      "Covariance Type:            nonrobust                                         \n",
      "==============================================================================\n",
      "                 coef    std err          t      P>|t|      [95.0% Conf. Int.]\n",
      "------------------------------------------------------------------------------\n",
      "const         -0.6915      0.201     -3.440      0.001        -1.093    -0.290\n",
      "day_count      0.1191      0.005     21.982      0.000         0.108     0.130\n",
      "==============================================================================\n",
      "Omnibus:                        4.581   Durbin-Watson:                   0.075\n",
      "Prob(Omnibus):                  0.101   Jarque-Bera (JB):                4.524\n",
      "Skew:                          -0.632   Prob(JB):                        0.104\n",
      "Kurtosis:                       2.730   Cond. No.                         73.4\n",
      "==============================================================================\n",
      "\n",
      "Warnings:\n",
      "[1] Standard Errors assume that the covariance matrix of the errors is correctly specified.\n"
     ]
    }
   ],
   "source": [
    "\n",
    "\n",
    "model = sm.OLS(y, X)\n",
    "reg = model.fit()\n",
    "print(reg.summary())\n",
    "\n"
   ]
  },
  {
   "cell_type": "code",
   "execution_count": 16,
   "metadata": {
    "collapsed": false
   },
   "outputs": [
    {
     "data": {
      "text/plain": [
       "(0.5008239408949785, 1.1265069864307291)"
      ]
     },
     "execution_count": 16,
     "metadata": {},
     "output_type": "execute_result"
    }
   ],
   "source": [
    "x0 = np.exp(reg.params[0])\n",
    "b = np.exp(reg.params[1])\n",
    "x0, b"
   ]
  },
  {
   "cell_type": "code",
   "execution_count": 17,
   "metadata": {
    "collapsed": false
   },
   "outputs": [
    {
     "data": {
      "text/plain": [
       "array([  2.00000000e+00,   2.00000000e+00,   2.00000000e+00,\n",
       "         2.00000000e+00,   2.00000000e+00,   2.00000000e+00,\n",
       "         3.00000000e+00,   3.00000000e+00,   3.00000000e+00,\n",
       "         3.00000000e+00,   4.00000000e+00,   4.00000000e+00,\n",
       "         5.00000000e+00,   5.00000000e+00,   6.00000000e+00,\n",
       "         6.00000000e+00,   7.00000000e+00,   8.00000000e+00,\n",
       "         9.00000000e+00,   1.00000000e+01,   1.10000000e+01,\n",
       "         1.30000000e+01,   1.40000000e+01,   1.60000000e+01,\n",
       "         1.80000000e+01,   2.00000000e+01,   2.30000000e+01,\n",
       "         2.50000000e+01,   2.90000000e+01,   3.20000000e+01,\n",
       "         3.60000000e+01,   4.10000000e+01,   4.60000000e+01,\n",
       "         5.10000000e+01,   5.80000000e+01,   6.50000000e+01,\n",
       "         7.30000000e+01,   8.30000000e+01,   9.30000000e+01,\n",
       "         1.05000000e+02,   1.18000000e+02,   1.33000000e+02,\n",
       "         1.49000000e+02,   1.68000000e+02,   1.89000000e+02,\n",
       "         2.13000000e+02,   2.40000000e+02,   2.71000000e+02,\n",
       "         3.05000000e+02,   3.43000000e+02,   3.87000000e+02,\n",
       "         4.35000000e+02,   4.90000000e+02,   5.52000000e+02,\n",
       "         6.22000000e+02,   7.01000000e+02,   7.90000000e+02,\n",
       "         8.89000000e+02,   1.00200000e+03,   1.12800000e+03,\n",
       "         1.27100000e+03,   1.43200000e+03,   1.61300000e+03,\n",
       "         1.81700000e+03,   2.04700000e+03])"
      ]
     },
     "execution_count": 17,
     "metadata": {},
     "output_type": "execute_result"
    }
   ],
   "source": [
    "\n",
    "\n",
    "t1 = np.arange(India_daily.shape[0])\n",
    "y = (x0 + b**t1).round()\n",
    "y\n",
    "\n"
   ]
  },
  {
   "cell_type": "code",
   "execution_count": 18,
   "metadata": {
    "collapsed": false
   },
   "outputs": [
    {
     "data": {
      "text/html": [
       "<div>\n",
       "<table border=\"1\" class=\"dataframe\">\n",
       "  <thead>\n",
       "    <tr style=\"text-align: right;\">\n",
       "      <th></th>\n",
       "      <th>Actual</th>\n",
       "      <th>Predicted</th>\n",
       "      <th>day_count</th>\n",
       "    </tr>\n",
       "  </thead>\n",
       "  <tbody>\n",
       "    <tr>\n",
       "      <th>0</th>\n",
       "      <td>1.0</td>\n",
       "      <td>2.0</td>\n",
       "      <td>0</td>\n",
       "    </tr>\n",
       "    <tr>\n",
       "      <th>1</th>\n",
       "      <td>1.0</td>\n",
       "      <td>2.0</td>\n",
       "      <td>1</td>\n",
       "    </tr>\n",
       "    <tr>\n",
       "      <th>2</th>\n",
       "      <td>2.0</td>\n",
       "      <td>2.0</td>\n",
       "      <td>2</td>\n",
       "    </tr>\n",
       "    <tr>\n",
       "      <th>3</th>\n",
       "      <td>3.0</td>\n",
       "      <td>2.0</td>\n",
       "      <td>3</td>\n",
       "    </tr>\n",
       "    <tr>\n",
       "      <th>4</th>\n",
       "      <td>3.0</td>\n",
       "      <td>2.0</td>\n",
       "      <td>4</td>\n",
       "    </tr>\n",
       "    <tr>\n",
       "      <th>5</th>\n",
       "      <td>3.0</td>\n",
       "      <td>2.0</td>\n",
       "      <td>5</td>\n",
       "    </tr>\n",
       "    <tr>\n",
       "      <th>6</th>\n",
       "      <td>3.0</td>\n",
       "      <td>3.0</td>\n",
       "      <td>6</td>\n",
       "    </tr>\n",
       "    <tr>\n",
       "      <th>7</th>\n",
       "      <td>3.0</td>\n",
       "      <td>3.0</td>\n",
       "      <td>7</td>\n",
       "    </tr>\n",
       "    <tr>\n",
       "      <th>8</th>\n",
       "      <td>3.0</td>\n",
       "      <td>3.0</td>\n",
       "      <td>8</td>\n",
       "    </tr>\n",
       "    <tr>\n",
       "      <th>9</th>\n",
       "      <td>3.0</td>\n",
       "      <td>3.0</td>\n",
       "      <td>9</td>\n",
       "    </tr>\n",
       "    <tr>\n",
       "      <th>10</th>\n",
       "      <td>3.0</td>\n",
       "      <td>4.0</td>\n",
       "      <td>10</td>\n",
       "    </tr>\n",
       "    <tr>\n",
       "      <th>11</th>\n",
       "      <td>3.0</td>\n",
       "      <td>4.0</td>\n",
       "      <td>11</td>\n",
       "    </tr>\n",
       "    <tr>\n",
       "      <th>12</th>\n",
       "      <td>3.0</td>\n",
       "      <td>5.0</td>\n",
       "      <td>12</td>\n",
       "    </tr>\n",
       "    <tr>\n",
       "      <th>13</th>\n",
       "      <td>3.0</td>\n",
       "      <td>5.0</td>\n",
       "      <td>13</td>\n",
       "    </tr>\n",
       "    <tr>\n",
       "      <th>14</th>\n",
       "      <td>3.0</td>\n",
       "      <td>6.0</td>\n",
       "      <td>14</td>\n",
       "    </tr>\n",
       "    <tr>\n",
       "      <th>15</th>\n",
       "      <td>3.0</td>\n",
       "      <td>6.0</td>\n",
       "      <td>15</td>\n",
       "    </tr>\n",
       "    <tr>\n",
       "      <th>16</th>\n",
       "      <td>3.0</td>\n",
       "      <td>7.0</td>\n",
       "      <td>16</td>\n",
       "    </tr>\n",
       "    <tr>\n",
       "      <th>17</th>\n",
       "      <td>3.0</td>\n",
       "      <td>8.0</td>\n",
       "      <td>17</td>\n",
       "    </tr>\n",
       "    <tr>\n",
       "      <th>18</th>\n",
       "      <td>3.0</td>\n",
       "      <td>9.0</td>\n",
       "      <td>18</td>\n",
       "    </tr>\n",
       "    <tr>\n",
       "      <th>19</th>\n",
       "      <td>3.0</td>\n",
       "      <td>10.0</td>\n",
       "      <td>19</td>\n",
       "    </tr>\n",
       "    <tr>\n",
       "      <th>20</th>\n",
       "      <td>3.0</td>\n",
       "      <td>11.0</td>\n",
       "      <td>20</td>\n",
       "    </tr>\n",
       "    <tr>\n",
       "      <th>21</th>\n",
       "      <td>3.0</td>\n",
       "      <td>13.0</td>\n",
       "      <td>21</td>\n",
       "    </tr>\n",
       "    <tr>\n",
       "      <th>22</th>\n",
       "      <td>3.0</td>\n",
       "      <td>14.0</td>\n",
       "      <td>22</td>\n",
       "    </tr>\n",
       "    <tr>\n",
       "      <th>23</th>\n",
       "      <td>3.0</td>\n",
       "      <td>16.0</td>\n",
       "      <td>23</td>\n",
       "    </tr>\n",
       "    <tr>\n",
       "      <th>24</th>\n",
       "      <td>3.0</td>\n",
       "      <td>18.0</td>\n",
       "      <td>24</td>\n",
       "    </tr>\n",
       "    <tr>\n",
       "      <th>25</th>\n",
       "      <td>3.0</td>\n",
       "      <td>20.0</td>\n",
       "      <td>25</td>\n",
       "    </tr>\n",
       "    <tr>\n",
       "      <th>26</th>\n",
       "      <td>3.0</td>\n",
       "      <td>23.0</td>\n",
       "      <td>26</td>\n",
       "    </tr>\n",
       "    <tr>\n",
       "      <th>27</th>\n",
       "      <td>3.0</td>\n",
       "      <td>25.0</td>\n",
       "      <td>27</td>\n",
       "    </tr>\n",
       "    <tr>\n",
       "      <th>28</th>\n",
       "      <td>3.0</td>\n",
       "      <td>29.0</td>\n",
       "      <td>28</td>\n",
       "    </tr>\n",
       "    <tr>\n",
       "      <th>29</th>\n",
       "      <td>3.0</td>\n",
       "      <td>32.0</td>\n",
       "      <td>29</td>\n",
       "    </tr>\n",
       "    <tr>\n",
       "      <th>...</th>\n",
       "      <td>...</td>\n",
       "      <td>...</td>\n",
       "      <td>...</td>\n",
       "    </tr>\n",
       "    <tr>\n",
       "      <th>35</th>\n",
       "      <td>30.0</td>\n",
       "      <td>65.0</td>\n",
       "      <td>35</td>\n",
       "    </tr>\n",
       "    <tr>\n",
       "      <th>36</th>\n",
       "      <td>31.0</td>\n",
       "      <td>73.0</td>\n",
       "      <td>36</td>\n",
       "    </tr>\n",
       "    <tr>\n",
       "      <th>37</th>\n",
       "      <td>34.0</td>\n",
       "      <td>83.0</td>\n",
       "      <td>37</td>\n",
       "    </tr>\n",
       "    <tr>\n",
       "      <th>38</th>\n",
       "      <td>39.0</td>\n",
       "      <td>93.0</td>\n",
       "      <td>38</td>\n",
       "    </tr>\n",
       "    <tr>\n",
       "      <th>39</th>\n",
       "      <td>46.0</td>\n",
       "      <td>105.0</td>\n",
       "      <td>39</td>\n",
       "    </tr>\n",
       "    <tr>\n",
       "      <th>40</th>\n",
       "      <td>58.0</td>\n",
       "      <td>118.0</td>\n",
       "      <td>40</td>\n",
       "    </tr>\n",
       "    <tr>\n",
       "      <th>41</th>\n",
       "      <td>60.0</td>\n",
       "      <td>133.0</td>\n",
       "      <td>41</td>\n",
       "    </tr>\n",
       "    <tr>\n",
       "      <th>42</th>\n",
       "      <td>74.0</td>\n",
       "      <td>149.0</td>\n",
       "      <td>42</td>\n",
       "    </tr>\n",
       "    <tr>\n",
       "      <th>43</th>\n",
       "      <td>81.0</td>\n",
       "      <td>168.0</td>\n",
       "      <td>43</td>\n",
       "    </tr>\n",
       "    <tr>\n",
       "      <th>44</th>\n",
       "      <td>84.0</td>\n",
       "      <td>189.0</td>\n",
       "      <td>44</td>\n",
       "    </tr>\n",
       "    <tr>\n",
       "      <th>45</th>\n",
       "      <td>110.0</td>\n",
       "      <td>213.0</td>\n",
       "      <td>45</td>\n",
       "    </tr>\n",
       "    <tr>\n",
       "      <th>46</th>\n",
       "      <td>114.0</td>\n",
       "      <td>240.0</td>\n",
       "      <td>46</td>\n",
       "    </tr>\n",
       "    <tr>\n",
       "      <th>47</th>\n",
       "      <td>137.0</td>\n",
       "      <td>271.0</td>\n",
       "      <td>47</td>\n",
       "    </tr>\n",
       "    <tr>\n",
       "      <th>48</th>\n",
       "      <td>151.0</td>\n",
       "      <td>305.0</td>\n",
       "      <td>48</td>\n",
       "    </tr>\n",
       "    <tr>\n",
       "      <th>49</th>\n",
       "      <td>173.0</td>\n",
       "      <td>343.0</td>\n",
       "      <td>49</td>\n",
       "    </tr>\n",
       "    <tr>\n",
       "      <th>50</th>\n",
       "      <td>223.0</td>\n",
       "      <td>387.0</td>\n",
       "      <td>50</td>\n",
       "    </tr>\n",
       "    <tr>\n",
       "      <th>51</th>\n",
       "      <td>283.0</td>\n",
       "      <td>435.0</td>\n",
       "      <td>51</td>\n",
       "    </tr>\n",
       "    <tr>\n",
       "      <th>52</th>\n",
       "      <td>360.0</td>\n",
       "      <td>490.0</td>\n",
       "      <td>52</td>\n",
       "    </tr>\n",
       "    <tr>\n",
       "      <th>53</th>\n",
       "      <td>433.0</td>\n",
       "      <td>552.0</td>\n",
       "      <td>53</td>\n",
       "    </tr>\n",
       "    <tr>\n",
       "      <th>54</th>\n",
       "      <td>519.0</td>\n",
       "      <td>622.0</td>\n",
       "      <td>54</td>\n",
       "    </tr>\n",
       "    <tr>\n",
       "      <th>55</th>\n",
       "      <td>606.0</td>\n",
       "      <td>701.0</td>\n",
       "      <td>55</td>\n",
       "    </tr>\n",
       "    <tr>\n",
       "      <th>56</th>\n",
       "      <td>694.0</td>\n",
       "      <td>790.0</td>\n",
       "      <td>56</td>\n",
       "    </tr>\n",
       "    <tr>\n",
       "      <th>57</th>\n",
       "      <td>724.0</td>\n",
       "      <td>889.0</td>\n",
       "      <td>57</td>\n",
       "    </tr>\n",
       "    <tr>\n",
       "      <th>58</th>\n",
       "      <td>909.0</td>\n",
       "      <td>1002.0</td>\n",
       "      <td>58</td>\n",
       "    </tr>\n",
       "    <tr>\n",
       "      <th>59</th>\n",
       "      <td>1024.0</td>\n",
       "      <td>1128.0</td>\n",
       "      <td>59</td>\n",
       "    </tr>\n",
       "    <tr>\n",
       "      <th>60</th>\n",
       "      <td>1251.0</td>\n",
       "      <td>1271.0</td>\n",
       "      <td>60</td>\n",
       "    </tr>\n",
       "    <tr>\n",
       "      <th>61</th>\n",
       "      <td>1397.0</td>\n",
       "      <td>1432.0</td>\n",
       "      <td>61</td>\n",
       "    </tr>\n",
       "    <tr>\n",
       "      <th>62</th>\n",
       "      <td>1834.0</td>\n",
       "      <td>1613.0</td>\n",
       "      <td>62</td>\n",
       "    </tr>\n",
       "    <tr>\n",
       "      <th>63</th>\n",
       "      <td>2069.0</td>\n",
       "      <td>1817.0</td>\n",
       "      <td>63</td>\n",
       "    </tr>\n",
       "    <tr>\n",
       "      <th>64</th>\n",
       "      <td>2470.0</td>\n",
       "      <td>2047.0</td>\n",
       "      <td>64</td>\n",
       "    </tr>\n",
       "  </tbody>\n",
       "</table>\n",
       "<p>65 rows × 3 columns</p>\n",
       "</div>"
      ],
      "text/plain": [
       "    Actual  Predicted  day_count\n",
       "0      1.0        2.0          0\n",
       "1      1.0        2.0          1\n",
       "2      2.0        2.0          2\n",
       "3      3.0        2.0          3\n",
       "4      3.0        2.0          4\n",
       "5      3.0        2.0          5\n",
       "6      3.0        3.0          6\n",
       "7      3.0        3.0          7\n",
       "8      3.0        3.0          8\n",
       "9      3.0        3.0          9\n",
       "10     3.0        4.0         10\n",
       "11     3.0        4.0         11\n",
       "12     3.0        5.0         12\n",
       "13     3.0        5.0         13\n",
       "14     3.0        6.0         14\n",
       "15     3.0        6.0         15\n",
       "16     3.0        7.0         16\n",
       "17     3.0        8.0         17\n",
       "18     3.0        9.0         18\n",
       "19     3.0       10.0         19\n",
       "20     3.0       11.0         20\n",
       "21     3.0       13.0         21\n",
       "22     3.0       14.0         22\n",
       "23     3.0       16.0         23\n",
       "24     3.0       18.0         24\n",
       "25     3.0       20.0         25\n",
       "26     3.0       23.0         26\n",
       "27     3.0       25.0         27\n",
       "28     3.0       29.0         28\n",
       "29     3.0       32.0         29\n",
       "..     ...        ...        ...\n",
       "35    30.0       65.0         35\n",
       "36    31.0       73.0         36\n",
       "37    34.0       83.0         37\n",
       "38    39.0       93.0         38\n",
       "39    46.0      105.0         39\n",
       "40    58.0      118.0         40\n",
       "41    60.0      133.0         41\n",
       "42    74.0      149.0         42\n",
       "43    81.0      168.0         43\n",
       "44    84.0      189.0         44\n",
       "45   110.0      213.0         45\n",
       "46   114.0      240.0         46\n",
       "47   137.0      271.0         47\n",
       "48   151.0      305.0         48\n",
       "49   173.0      343.0         49\n",
       "50   223.0      387.0         50\n",
       "51   283.0      435.0         51\n",
       "52   360.0      490.0         52\n",
       "53   433.0      552.0         53\n",
       "54   519.0      622.0         54\n",
       "55   606.0      701.0         55\n",
       "56   694.0      790.0         56\n",
       "57   724.0      889.0         57\n",
       "58   909.0     1002.0         58\n",
       "59  1024.0     1128.0         59\n",
       "60  1251.0     1271.0         60\n",
       "61  1397.0     1432.0         61\n",
       "62  1834.0     1613.0         62\n",
       "63  2069.0     1817.0         63\n",
       "64  2470.0     2047.0         64\n",
       "\n",
       "[65 rows x 3 columns]"
      ]
     },
     "execution_count": 18,
     "metadata": {},
     "output_type": "execute_result"
    }
   ],
   "source": [
    "\n",
    "\n",
    "upto_now = pd.DataFrame({'day_count': t1, \"Actual\": daily_infection[\"Confirmed\"], \"Predicted\": y, })\n",
    "upto_now\n",
    "\n"
   ]
  },
  {
   "cell_type": "code",
   "execution_count": 19,
   "metadata": {
    "collapsed": false
   },
   "outputs": [
    {
     "data": {
      "image/png": "[encoded data removed]",
      "text/plain": [
       "<matplotlib.figure.Figure at 0xa783fccc>"
      ]
     },
     "metadata": {},
     "output_type": "display_data"
    }
   ],
   "source": [
    "plt.plot(upto_now.day_count, upto_now.Actual, alpha=0.4, c=\"green\")\n",
    "plt.plot(upto_now.day_count, upto_now.Predicted, alpha=0.4, c=\"red\")\n",
    "\n",
    "plt.title(\"Actual vs Predicted Plot\")\n",
    "plt.legend([\"Actual Count\", \"Predicted Count\"])\n",
    "plt.xlabel(\"Day\")\n",
    "plt.ylabel(\"Infections\")\n",
    "plt.show()\n"
   ]
  },
  {
   "cell_type": "code",
   "execution_count": 27,
   "metadata": {
    "collapsed": false
   },
   "outputs": [
    {
     "ename": "TypeError",
     "evalue": "mean_squared_error() got an unexpected keyword argument 'squared'",
     "output_type": "error",
     "traceback": [
      "\u001b[0;31m---------------------------------------------------------------------------\u001b[0m",
      "\u001b[0;31mTypeError\u001b[0m                                 Traceback (most recent call last)",
      "\u001b[0;32m<ipython-input-27-d81ce0513102>\u001b[0m in \u001b[0;36m<module>\u001b[0;34m()\u001b[0m\n\u001b[1;32m      1\u001b[0m \u001b[0;32mfrom\u001b[0m \u001b[0msklearn\u001b[0m\u001b[0;34m.\u001b[0m\u001b[0mmetrics\u001b[0m \u001b[0;32mimport\u001b[0m \u001b[0mmean_squared_error\u001b[0m\u001b[0;34m\u001b[0m\u001b[0m\n\u001b[1;32m      2\u001b[0m \u001b[0;34m\u001b[0m\u001b[0m\n\u001b[0;32m----> 3\u001b[0;31m \u001b[0mmean_squared_error\u001b[0m\u001b[0;34m(\u001b[0m\u001b[0mupto_now\u001b[0m\u001b[0;34m.\u001b[0m\u001b[0mActual\u001b[0m\u001b[0;34m,\u001b[0m \u001b[0mupto_now\u001b[0m\u001b[0;34m.\u001b[0m\u001b[0mPredicted\u001b[0m\u001b[0;34m,\u001b[0m \u001b[0msquared\u001b[0m\u001b[0;34m=\u001b[0m\u001b[0;32mFalse\u001b[0m\u001b[0;34m)\u001b[0m\u001b[0;34m\u001b[0m\u001b[0m\n\u001b[0m",
      "\u001b[0;31mTypeError\u001b[0m: mean_squared_error() got an unexpected keyword argument 'squared'"
     ]
    }
   ],
   "source": [
    "from sklearn.metrics import mean_squared_error\n",
    "\n",
    "mean_squared_error(upto_now.Actual, upto_now.Predicted, squared=False)"
   ]
  },
  {
   "cell_type": "code",
   "execution_count": 28,
   "metadata": {
    "collapsed": false
   },
   "outputs": [
    {
     "data": {
      "text/plain": [
       "79"
      ]
     },
     "execution_count": 28,
     "metadata": {},
     "output_type": "execute_result"
    }
   ],
   "source": [
    "India_daily.shape[0] + 14"
   ]
  },
  {
   "cell_type": "code",
   "execution_count": 29,
   "metadata": {
    "collapsed": false
   },
   "outputs": [
    {
     "data": {
      "text/plain": [
       "array([65, 66, 67, 68, 69, 70, 71, 72, 73, 74, 75, 76, 77, 78])"
      ]
     },
     "execution_count": 29,
     "metadata": {},
     "output_type": "execute_result"
    }
   ],
   "source": [
    "t = np.arange(India_daily.shape[0], India_daily.shape[0] + 14)\n",
    "t"
   ]
  },
  {
   "cell_type": "code",
   "execution_count": 30,
   "metadata": {
    "collapsed": false
   },
   "outputs": [
    {
     "data": {
      "text/plain": [
       "array([  2306.,   2597.,   2926.,   3296.,   3713.,   4182.,   4711.,\n",
       "         5307.,   5979.,   6735.,   7587.,   8547.,   9628.,  10846.])"
      ]
     },
     "execution_count": 30,
     "metadata": {},
     "output_type": "execute_result"
    }
   ],
   "source": [
    "xt = (x0 + b**t).round()\n",
    "xt\n"
   ]
  },
  {
   "cell_type": "code",
   "execution_count": 31,
   "metadata": {
    "collapsed": false
   },
   "outputs": [
    {
     "data": {
      "text/html": [
       "<div>\n",
       "<table border=\"1\" class=\"dataframe\">\n",
       "  <thead>\n",
       "    <tr style=\"text-align: right;\">\n",
       "      <th></th>\n",
       "      <th>Confirmed</th>\n",
       "      <th>day_count</th>\n",
       "    </tr>\n",
       "  </thead>\n",
       "  <tbody>\n",
       "    <tr>\n",
       "      <th>0</th>\n",
       "      <td>2306.0</td>\n",
       "      <td>65</td>\n",
       "    </tr>\n",
       "    <tr>\n",
       "      <th>1</th>\n",
       "      <td>2597.0</td>\n",
       "      <td>66</td>\n",
       "    </tr>\n",
       "    <tr>\n",
       "      <th>2</th>\n",
       "      <td>2926.0</td>\n",
       "      <td>67</td>\n",
       "    </tr>\n",
       "    <tr>\n",
       "      <th>3</th>\n",
       "      <td>3296.0</td>\n",
       "      <td>68</td>\n",
       "    </tr>\n",
       "    <tr>\n",
       "      <th>4</th>\n",
       "      <td>3713.0</td>\n",
       "      <td>69</td>\n",
       "    </tr>\n",
       "    <tr>\n",
       "      <th>5</th>\n",
       "      <td>4182.0</td>\n",
       "      <td>70</td>\n",
       "    </tr>\n",
       "    <tr>\n",
       "      <th>6</th>\n",
       "      <td>4711.0</td>\n",
       "      <td>71</td>\n",
       "    </tr>\n",
       "    <tr>\n",
       "      <th>7</th>\n",
       "      <td>5307.0</td>\n",
       "      <td>72</td>\n",
       "    </tr>\n",
       "    <tr>\n",
       "      <th>8</th>\n",
       "      <td>5979.0</td>\n",
       "      <td>73</td>\n",
       "    </tr>\n",
       "    <tr>\n",
       "      <th>9</th>\n",
       "      <td>6735.0</td>\n",
       "      <td>74</td>\n",
       "    </tr>\n",
       "    <tr>\n",
       "      <th>10</th>\n",
       "      <td>7587.0</td>\n",
       "      <td>75</td>\n",
       "    </tr>\n",
       "    <tr>\n",
       "      <th>11</th>\n",
       "      <td>8547.0</td>\n",
       "      <td>76</td>\n",
       "    </tr>\n",
       "    <tr>\n",
       "      <th>12</th>\n",
       "      <td>9628.0</td>\n",
       "      <td>77</td>\n",
       "    </tr>\n",
       "    <tr>\n",
       "      <th>13</th>\n",
       "      <td>10846.0</td>\n",
       "      <td>78</td>\n",
       "    </tr>\n",
       "  </tbody>\n",
       "</table>\n",
       "</div>"
      ],
      "text/plain": [
       "    Confirmed  day_count\n",
       "0      2306.0         65\n",
       "1      2597.0         66\n",
       "2      2926.0         67\n",
       "3      3296.0         68\n",
       "4      3713.0         69\n",
       "5      4182.0         70\n",
       "6      4711.0         71\n",
       "7      5307.0         72\n",
       "8      5979.0         73\n",
       "9      6735.0         74\n",
       "10     7587.0         75\n",
       "11     8547.0         76\n",
       "12     9628.0         77\n",
       "13    10846.0         78"
      ]
     },
     "execution_count": 31,
     "metadata": {},
     "output_type": "execute_result"
    }
   ],
   "source": [
    "next2weeks = pd.DataFrame({'day_count': t, \"Confirmed\": xt})\n",
    "next2weeks"
   ]
  },
  {
   "cell_type": "code",
   "execution_count": 32,
   "metadata": {
    "collapsed": true
   },
   "outputs": [],
   "source": [
    "X = daily_infection.day_count\n",
    "y = daily_infection.Confirmed\n",
    "\n",
    "X1 = next2weeks.day_count\n",
    "y1 = next2weeks.Confirmed"
   ]
  },
  {
   "cell_type": "code",
   "execution_count": 33,
   "metadata": {
    "collapsed": false
   },
   "outputs": [
    {
     "data": {
      "image/png": "[encoded data removed]",
      "text/plain": [
       "<matplotlib.figure.Figure at 0xa700478c>"
      ]
     },
     "metadata": {},
     "output_type": "display_data"
    }
   ],
   "source": [
    "plt.scatter(X, y, alpha=0.2, c=\"blue\")\n",
    "plt.scatter(X1, y1, alpha=0.1, c=\"blue\")\n",
    "plt.plot(X, y)\n",
    "plt.plot(X1, y1)\n",
    "plt.title(\"Future Infection Prediction\")\n",
    "plt.legend([\"Up to the Present Day\", \"Next 14 Days Prediction\"])\n",
    "plt.xlabel(\"Day\")\n",
    "plt.ylabel(\"Infections\")\n",
    "plt.show()"
   ]
  },
  {
   "cell_type": "code",
   "execution_count": null,
   "metadata": {
    "collapsed": true
   },
   "outputs": [],
   "source": []
  }
 ],
 "metadata": {
  "kernelspec": {
   "display_name": "Python 3",
   "language": "python",
   "name": "python3"
  },
  "language_info": {
   "codemirror_mode": {
    "name": "ipython",
    "version": 3
   },
   "file_extension": ".py",
   "mimetype": "text/x-python",
   "name": "python",
   "nbconvert_exporter": "python",
   "pygments_lexer": "ipython3",
   "version": "3.6.0"
  }
 },
 "nbformat": 4,
 "nbformat_minor": 2
}
